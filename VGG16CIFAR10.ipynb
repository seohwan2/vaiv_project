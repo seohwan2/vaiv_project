{
  "nbformat": 4,
  "nbformat_minor": 0,
  "metadata": {
    "colab": {
      "name": "Untitled2.ipynb",
      "provenance": [],
      "authorship_tag": "ABX9TyP3ALlJxUUTETahcQJIfX92",
      "include_colab_link": true
    },
    "kernelspec": {
      "name": "python3",
      "display_name": "Python 3"
    },
    "language_info": {
      "name": "python"
    },
    "accelerator": "GPU"
  },
  "cells": [
    {
      "cell_type": "markdown",
      "metadata": {
        "id": "view-in-github",
        "colab_type": "text"
      },
      "source": [
        "<a href=\"https://colab.research.google.com/github/seohwan2/vaiv_project/blob/main/VGG16CIFAR10.ipynb\" target=\"_parent\"><img src=\"https://colab.research.google.com/assets/colab-badge.svg\" alt=\"Open In Colab\"/></a>"
      ]
    },
    {
      "cell_type": "code",
      "execution_count": 24,
      "metadata": {
        "id": "VTdm0XjFURZJ"
      },
      "outputs": [],
      "source": [
        "import torchvision\n",
        "import torch\n",
        "import torch.nn as nn\n",
        "import torch.optim as optim\n",
        "import torchvision.transforms as transforms\n",
        "import os\n",
        "import torchvision.models as models\n",
        "import torch.nn.functional as F\n",
        "import math\n",
        "import time\n",
        "\n",
        "device = 'cuda'\n",
        "\n",
        "# Simple Learning Rate Scheduler\n",
        "def lr_scheduler(optimizer, epoch):\n",
        "    lr = learning_rate\n",
        "    if epoch >= 30:\n",
        "        lr /= 2\n",
        "    if epoch >= 60:\n",
        "        lr /= 2\n",
        "    for param_group in optimizer.param_groups:\n",
        "        param_group['lr'] = lr\n",
        "\n",
        "# Xavier         \n",
        "def init_weights(m):\n",
        "    if isinstance(m, nn.Linear):\n",
        "        torch.nn.init.xavier_uniform(m.weight)\n",
        "    if isinstance(m, nn.Conv2d):\n",
        "        torch.nn.init.kaiming_uniform(m.weight)"
      ]
    },
    {
      "cell_type": "code",
      "source": [
        "transform_train = transforms.Compose([\n",
        "    transforms.RandomCrop(32, padding=4),\n",
        "    transforms.RandomHorizontalFlip(),\n",
        "    transforms.ToTensor(),\n",
        "])\n",
        "\n",
        "transform_test = transforms.Compose([\n",
        "    transforms.ToTensor(),\n",
        "])\n",
        "\n",
        "train_dataset = torchvision.datasets.CIFAR10(root='./data', train=True, download=True, transform=transform_train)\n",
        "test_dataset = torchvision.datasets.CIFAR10(root='./data', train=False, download=True, transform=transform_test)\n",
        "\n",
        "train_loader = torch.utils.data.DataLoader(train_dataset, batch_size=128, shuffle=True, num_workers=8)\n",
        "test_loader = torch.utils.data.DataLoader(test_dataset, batch_size=128, shuffle=False, num_workers=8)"
      ],
      "metadata": {
        "colab": {
          "base_uri": "https://localhost:8080/"
        },
        "id": "095043KJUnfz",
        "outputId": "95736cf8-e69f-4a2b-850e-e04e27942b9e"
      },
      "execution_count": 20,
      "outputs": [
        {
          "output_type": "stream",
          "name": "stdout",
          "text": [
            "Files already downloaded and verified\n",
            "Files already downloaded and verified\n"
          ]
        },
        {
          "output_type": "stream",
          "name": "stderr",
          "text": [
            "/usr/local/lib/python3.7/dist-packages/torch/utils/data/dataloader.py:490: UserWarning: This DataLoader will create 8 worker processes in total. Our suggested max number of worker in current system is 2, which is smaller than what this DataLoader is going to create. Please be aware that excessive worker creation might get DataLoader running slow or even freeze, lower the worker number to avoid potential slowness/freeze if necessary.\n",
            "  cpuset_checked))\n"
          ]
        }
      ]
    },
    {
      "cell_type": "code",
      "source": [
        "class VGG(nn.Module):\n",
        "    def __init__(self, config, num_classes=1000, cifar=False):\n",
        "        super(VGG, self).__init__()\n",
        "        self.features = make_layer(config)\n",
        "        \n",
        "        # ImageNet\n",
        "        self.classifier = nn.Sequential(\n",
        "            nn.Linear(512 * 7 * 7, 4096),\n",
        "            nn.ReLU(),\n",
        "            nn.Dropout(0.5),\n",
        "            nn.Linear(4096, 4096),\n",
        "            nn.ReLU(),\n",
        "            nn.Dropout(0.5),\n",
        "            nn.Linear(4096, num_classes)  \n",
        "        )\n",
        "        if cifar:\n",
        "            self.classifier = nn.Sequential(\n",
        "                nn.Dropout(0.5),\n",
        "                nn.Linear(512, 512),\n",
        "                nn.ReLU(True),\n",
        "                nn.Dropout(0.5),\n",
        "                nn.Linear(512, 512),\n",
        "                nn.ReLU(True),\n",
        "                nn.Linear(512, 10)  \n",
        "            ) \n",
        "        \n",
        "    def forward(self, x):\n",
        "        out = self.features(x)\n",
        "        out = torch.flatten(out,1)\n",
        "        out = self.classifier(out)\n",
        "        return out\n",
        "    \n",
        "\n",
        "    \n",
        "cfg = {\n",
        "    'A': [64, 'M', 128, 'M', 256, 256, 'M', 512, 512, 'M', 512, 512, 'M'],\n",
        "    'B': [64, 64, 'M', 128, 128, 'M', 256, 256, 'M', 512, 512, 'M', 512, 512, 'M'],\n",
        "    'D': [64, 64, 'M', 128, 128, 'M', 256, 256, 256, 'M', 512, 512, 512, 'M', 512, 512, 512, 'M'],\n",
        "    'E': [64, 64, 'M', 128, 128, 'M', 256, 256, 256, 256, 'M', 512, 512, 512, 512, 'M', 512, 512, 512, 512, 'M'],\n",
        "}\n",
        "\n",
        "def make_layer(config):\n",
        "    layers = []\n",
        "    in_planes = 3\n",
        "    for value in config:\n",
        "        if value == \"M\":\n",
        "            layers.append(nn.MaxPool2d(kernel_size=2, stride=2))\n",
        "        else:\n",
        "            layers.append(nn.Conv2d(in_planes, value, kernel_size=3, padding=1))\n",
        "            layers.append(nn.ReLU())\n",
        "            in_planes = value\n",
        "    return nn.Sequential(*layers)\n",
        "\n",
        "def VGG11(cifar=False):\n",
        "    return VGG(config = cfg['A'], cifar = cifar)\n",
        "\n",
        "def VGG13(cifar=False):\n",
        "    return VGG(config = cfg['B'], cifar = cifar)\n",
        "\n",
        "def VGG16(cifar=False):\n",
        "    return VGG(config = cfg['D'], cifar = cifar)\n",
        "\n",
        "def VGG19(cifar=False):\n",
        "    return VGG(config = cfg['E'], cifar = cifar)\n",
        "\n",
        "model = VGG16(cifar=True)\n",
        "# VGG11, VGG13, VGG16, VGG19 중에 택일하여 사용\n",
        "model.apply(init_weights)\n",
        "model = model.to(device)\n",
        "\n",
        "learning_rate = 0.05\n",
        "num_epoch = 10\n",
        "\n",
        "loss_fn = nn.CrossEntropyLoss()\n",
        "optimizer = optim.SGD(model.parameters(), lr=learning_rate, momentum=0.9, weight_decay=0.0001)\n",
        "\n",
        "train_loss = 0\n",
        "valid_loss = 0\n",
        "correct = 0\n",
        "total_cnt = 0\n",
        "best_acc = 0"
      ],
      "metadata": {
        "colab": {
          "base_uri": "https://localhost:8080/"
        },
        "id": "EqolwBYWUtoU",
        "outputId": "15a97572-a08a-4789-a672-8474bfa46666"
      },
      "execution_count": 26,
      "outputs": [
        {
          "output_type": "stream",
          "name": "stderr",
          "text": [
            "/usr/local/lib/python3.7/dist-packages/ipykernel_launcher.py:29: UserWarning: nn.init.kaiming_uniform is now deprecated in favor of nn.init.kaiming_uniform_.\n",
            "/usr/local/lib/python3.7/dist-packages/ipykernel_launcher.py:27: UserWarning: nn.init.xavier_uniform is now deprecated in favor of nn.init.xavier_uniform_.\n"
          ]
        }
      ]
    },
    {
      "cell_type": "code",
      "source": [
        "x = []\n",
        "y = []\n",
        "for epoch in range(num_epoch):\n",
        "    start = time.time()\n",
        "    model.train()\n",
        "    lr_scheduler(optimizer, epoch)\n",
        "    train_loss = 0\n",
        "    valid_loss = 0\n",
        "    correct = 0\n",
        "    total_cnt = 0\n",
        "    #avg_cost = 0\n",
        "    for step, batch in enumerate(train_loader):\n",
        "        batch[0], batch[1] = batch[0].to(device), batch[1].to(device)\n",
        "        optimizer.zero_grad()\n",
        "        \n",
        "        logits = model(batch[0])\n",
        "        loss = loss_fn(logits, batch[1])\n",
        "        loss.backward()\n",
        "        \n",
        "        optimizer.step()\n",
        "        train_loss += loss.item()\n",
        "        _, predict = logits.max(1)\n",
        "        \n",
        "        total_cnt += batch[1].size(0)\n",
        "        correct +=  predict.eq(batch[1]).sum().item()\n",
        "        #avg_cost += loss / total_cnt\n",
        "    x.append(epoch+1)\n",
        "    y.append(loss.item())\n",
        "    print(f\"====== { epoch+1} epoch of { num_epoch } ======\")\n",
        "    print(f\"Train Acc : { correct*100 / total_cnt }\")\n",
        "    print(f\"Train Loss : {loss.item()}\")\n",
        "    print(f\"Train Time : {time.time()-start}\")\n"
      ],
      "metadata": {
        "colab": {
          "base_uri": "https://localhost:8080/"
        },
        "id": "8U7AP-47VH7I",
        "outputId": "f43c3fac-13a2-4026-80fd-0e428eac3c15"
      },
      "execution_count": 27,
      "outputs": [
        {
          "output_type": "stream",
          "name": "stderr",
          "text": [
            "/usr/local/lib/python3.7/dist-packages/torch/utils/data/dataloader.py:490: UserWarning: This DataLoader will create 8 worker processes in total. Our suggested max number of worker in current system is 2, which is smaller than what this DataLoader is going to create. Please be aware that excessive worker creation might get DataLoader running slow or even freeze, lower the worker number to avoid potential slowness/freeze if necessary.\n",
            "  cpuset_checked))\n"
          ]
        },
        {
          "output_type": "stream",
          "name": "stdout",
          "text": [
            "====== 1 epoch of 10 ======\n",
            "Train Acc : 13.378\n",
            "Train Loss : 0.11759732663631439\n",
            "Train Time : 21.13067364692688\n",
            "====== 2 epoch of 10 ======\n",
            "Train Acc : 17.048\n",
            "Train Loss : 0.11410100013017654\n",
            "Train Time : 21.466675996780396\n",
            "====== 3 epoch of 10 ======\n",
            "Train Acc : 26.554\n",
            "Train Loss : 0.09636687487363815\n",
            "Train Time : 21.34937286376953\n",
            "====== 4 epoch of 10 ======\n",
            "Train Acc : 34.53\n",
            "Train Loss : 0.08975902199745178\n",
            "Train Time : 21.170762062072754\n",
            "====== 5 epoch of 10 ======\n",
            "Train Acc : 42.17\n",
            "Train Loss : 0.08370480686426163\n",
            "Train Time : 21.268723487854004\n",
            "====== 6 epoch of 10 ======\n",
            "Train Acc : 52.206\n",
            "Train Loss : 0.07419523596763611\n",
            "Train Time : 21.38467001914978\n",
            "====== 7 epoch of 10 ======\n",
            "Train Acc : 59.082\n",
            "Train Loss : 0.06347602605819702\n",
            "Train Time : 21.3184597492218\n",
            "====== 8 epoch of 10 ======\n",
            "Train Acc : 63.782\n",
            "Train Loss : 0.05580247938632965\n",
            "Train Time : 21.381881952285767\n",
            "====== 9 epoch of 10 ======\n",
            "Train Acc : 67.104\n",
            "Train Loss : 0.049730829894542694\n",
            "Train Time : 21.22605562210083\n",
            "====== 10 epoch of 10 ======\n",
            "Train Acc : 69.644\n",
            "Train Loss : 0.04775947332382202\n",
            "Train Time : 21.30089282989502\n"
          ]
        }
      ]
    },
    {
      "cell_type": "code",
      "source": [
        "# Test Phase\n",
        "with torch.no_grad():\n",
        "        times = []\n",
        "        pred = []\n",
        "        model.eval()\n",
        "        for step, batch in enumerate(test_loader):\n",
        "            start = time.time()\n",
        "            batch[0], batch[1] = batch[0].to(device), batch[1].to(device)\n",
        "            total_cnt += batch[1].size(0)\n",
        "            logits = model(batch[0])\n",
        "            valid_loss += loss_fn(logits, batch[1])\n",
        "            _, predict = logits.max(1)\n",
        "            pred.append(predict)\n",
        "            times.append(time.time()-start)\n",
        "            correct += predict.eq(batch[1]).sum().item()\n",
        "        valid_acc = correct / total_cnt\n",
        "        print(f\"\\nAccuarcy : { valid_acc *100 }\")  "
      ],
      "metadata": {
        "colab": {
          "base_uri": "https://localhost:8080/"
        },
        "id": "KWxG6FQOVKDY",
        "outputId": "c80db5eb-88f3-4d70-feab-6043b49fe452"
      },
      "execution_count": 33,
      "outputs": [
        {
          "output_type": "stream",
          "name": "stderr",
          "text": [
            "/usr/local/lib/python3.7/dist-packages/torch/utils/data/dataloader.py:490: UserWarning: This DataLoader will create 8 worker processes in total. Our suggested max number of worker in current system is 2, which is smaller than what this DataLoader is going to create. Please be aware that excessive worker creation might get DataLoader running slow or even freeze, lower the worker number to avoid potential slowness/freeze if necessary.\n",
            "  cpuset_checked))\n"
          ]
        },
        {
          "output_type": "stream",
          "name": "stdout",
          "text": [
            "\n",
            "Accuarcy : 70.25375\n"
          ]
        }
      ]
    },
    {
      "cell_type": "code",
      "source": [
        "import matplotlib.pyplot as plt\n",
        "import numpy as np\n",
        "NAMES = np.array(['airplane', 'automobile', 'bird', 'cat', 'deer', 'dog', 'frog', 'horse', 'ship', 'truck'])\n",
        "\n",
        "plt.plot(x, y, 'g')\n",
        "plt.xlabel('Epoch')\n",
        "plt.ylabel('Loss')\n",
        "plt.show()\n",
        "testloader1 = torch.utils.data.DataLoader(test_dataset, batch_size=8, shuffle=False)\n",
        "for data in testloader1:\n",
        "    img, label = data \n",
        "    img1 = torchvision.utils.make_grid(img)\n",
        "    img1 = img1 / 2 + 0.5\n",
        "    npimg = img1.numpy()\n",
        "    plt.imshow(np.transpose(npimg, (1, 2, 0)))"
      ],
      "metadata": {
        "colab": {
          "base_uri": "https://localhost:8080/",
          "height": 357
        },
        "id": "rUUwLXoIjPGC",
        "outputId": "f7bd8e15-0fc0-43d2-9e9c-a75f0ef9cf3a"
      },
      "execution_count": 34,
      "outputs": [
        {
          "output_type": "display_data",
          "data": {
            "text/plain": [
              "<Figure size 432x288 with 1 Axes>"
            ],
            "image/png": "[encoded data removed]"
          },
          "metadata": {
            "needs_background": "light"
          }
        },
        {
          "output_type": "display_data",
          "data": {
            "text/plain": [
              "<Figure size 432x288 with 1 Axes>"
            ],
            "image/png": "[encoded data removed]"
          },
          "metadata": {
            "needs_background": "light"
          }
        }
      ]
    },
    {
      "cell_type": "code",
      "source": [
        "print('Accuracy : {0}%' .format(valid_acc*100))\n",
        "num = 1 \n",
        "for i in range(8):\n",
        "    if(label[i] == pred[i]):\n",
        "        str = '{2}번째 예측 결과값은 : Label {0}, Predict {1} => Correct! / {2}번째 이미지 분류하는데 걸린 시간 : {3}'.format(NAMES[label[i]], NAMES[int(pred[i].item())],num,times[i])\n",
        "    else:\n",
        "        str = '{2}번째 예측 결과값은 : Label {0}, Predict {1} => Not correct! / {2}번째 이미지 분류하는데 걸린 시간 : {3}'.format(NAMES[label[i]], NAMES[int(pred[i].item())],num,times[i])\n",
        "    print(str)\n",
        "    num+=1"
      ],
      "metadata": {
        "colab": {
          "base_uri": "https://localhost:8080/",
          "height": 259
        },
        "id": "Fqu7pH1rjSP9",
        "outputId": "6aa67b97-a390-44f6-9d38-f0b2fc761425"
      },
      "execution_count": 1,
      "outputs": [
        {
          "output_type": "error",
          "ename": "NameError",
          "evalue": "ignored",
          "traceback": [
            "\u001b[0;31m---------------------------------------------------------------------------\u001b[0m",
            "\u001b[0;31mNameError\u001b[0m                                 Traceback (most recent call last)",
            "\u001b[0;32m<ipython-input-1-e4a44c33c64c>\u001b[0m in \u001b[0;36m<module>\u001b[0;34m()\u001b[0m\n\u001b[0;32m----> 1\u001b[0;31m \u001b[0mprint\u001b[0m\u001b[0;34m(\u001b[0m\u001b[0;34m'Accuracy : {0}%'\u001b[0m \u001b[0;34m.\u001b[0m\u001b[0mformat\u001b[0m\u001b[0;34m(\u001b[0m\u001b[0mvalid_acc\u001b[0m\u001b[0;34m*\u001b[0m\u001b[0;36m100\u001b[0m\u001b[0;34m)\u001b[0m\u001b[0;34m)\u001b[0m\u001b[0;34m\u001b[0m\u001b[0;34m\u001b[0m\u001b[0m\n\u001b[0m\u001b[1;32m      2\u001b[0m \u001b[0mnum\u001b[0m \u001b[0;34m=\u001b[0m \u001b[0;36m1\u001b[0m\u001b[0;34m\u001b[0m\u001b[0;34m\u001b[0m\u001b[0m\n\u001b[1;32m      3\u001b[0m \u001b[0;32mfor\u001b[0m \u001b[0mi\u001b[0m \u001b[0;32min\u001b[0m \u001b[0mrange\u001b[0m\u001b[0;34m(\u001b[0m\u001b[0;36m8\u001b[0m\u001b[0;34m)\u001b[0m\u001b[0;34m:\u001b[0m\u001b[0;34m\u001b[0m\u001b[0;34m\u001b[0m\u001b[0m\n\u001b[1;32m      4\u001b[0m     \u001b[0;32mif\u001b[0m\u001b[0;34m(\u001b[0m\u001b[0mlabel\u001b[0m\u001b[0;34m[\u001b[0m\u001b[0mi\u001b[0m\u001b[0;34m]\u001b[0m \u001b[0;34m==\u001b[0m \u001b[0mpred\u001b[0m\u001b[0;34m[\u001b[0m\u001b[0mi\u001b[0m\u001b[0;34m]\u001b[0m\u001b[0;34m)\u001b[0m\u001b[0;34m:\u001b[0m\u001b[0;34m\u001b[0m\u001b[0;34m\u001b[0m\u001b[0m\n\u001b[1;32m      5\u001b[0m         \u001b[0mstr\u001b[0m \u001b[0;34m=\u001b[0m \u001b[0;34m'{2}번째 예측 결과값은 : Label {0}, Predict {1} => Correct! / {2}번째 이미지 분류하는데 걸린 시간 : {3}'\u001b[0m\u001b[0;34m.\u001b[0m\u001b[0mformat\u001b[0m\u001b[0;34m(\u001b[0m\u001b[0mNAMES\u001b[0m\u001b[0;34m[\u001b[0m\u001b[0mlabel\u001b[0m\u001b[0;34m[\u001b[0m\u001b[0mi\u001b[0m\u001b[0;34m]\u001b[0m\u001b[0;34m]\u001b[0m\u001b[0;34m,\u001b[0m \u001b[0mNAMES\u001b[0m\u001b[0;34m[\u001b[0m\u001b[0mint\u001b[0m\u001b[0;34m(\u001b[0m\u001b[0mpred\u001b[0m\u001b[0;34m[\u001b[0m\u001b[0mi\u001b[0m\u001b[0;34m]\u001b[0m\u001b[0;34m.\u001b[0m\u001b[0mitem\u001b[0m\u001b[0;34m(\u001b[0m\u001b[0;34m)\u001b[0m\u001b[0;34m)\u001b[0m\u001b[0;34m]\u001b[0m\u001b[0;34m,\u001b[0m\u001b[0mnum\u001b[0m\u001b[0;34m,\u001b[0m\u001b[0mtimes\u001b[0m\u001b[0;34m[\u001b[0m\u001b[0mi\u001b[0m\u001b[0;34m]\u001b[0m\u001b[0;34m)\u001b[0m\u001b[0;34m\u001b[0m\u001b[0;34m\u001b[0m\u001b[0m\n",
            "\u001b[0;31mNameError\u001b[0m: name 'valid_acc' is not defined"
          ]
        }
      ]
    }
  ]
}